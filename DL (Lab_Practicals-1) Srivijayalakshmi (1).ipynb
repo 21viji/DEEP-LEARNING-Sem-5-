{
 "cells": [
  {
   "cell_type": "code",
   "execution_count": 2,
   "id": "5cb92c24",
   "metadata": {},
   "outputs": [],
   "source": [
    "import math \n",
    "import numpy as np"
   ]
  },
  {
   "cell_type": "code",
   "execution_count": 3,
   "id": "420f0210",
   "metadata": {},
   "outputs": [],
   "source": [
    "import math\n",
    "\n",
    "def basic_sigmoid(x):\n",
    "\n",
    "  s = 1 / (1 + math.exp(-x))\n",
    "  return s"
   ]
  },
  {
   "cell_type": "code",
   "execution_count": 4,
   "id": "01b5f521",
   "metadata": {},
   "outputs": [
    {
     "data": {
      "text/plain": [
       "0.8807970779778823"
      ]
     },
     "execution_count": 4,
     "metadata": {},
     "output_type": "execute_result"
    }
   ],
   "source": [
    "basic_sigmoid(2)"
   ]
  },
  {
   "cell_type": "code",
   "execution_count": 5,
   "id": "e95df329",
   "metadata": {},
   "outputs": [
    {
     "name": "stdout",
     "output_type": "stream",
     "text": [
      "[ 2.71828183  7.3890561  20.08553692]\n"
     ]
    }
   ],
   "source": [
    "import numpy as np\n",
    "\n",
    "x= np.array([1,2,3])\n",
    "print(np.exp(x)) #result is (exp(1) (exp(2) (exp(3))))"
   ]
  },
  {
   "cell_type": "code",
   "execution_count": 6,
   "id": "796efba0",
   "metadata": {},
   "outputs": [
    {
     "name": "stdout",
     "output_type": "stream",
     "text": [
      "[4 5 6]\n"
     ]
    }
   ],
   "source": [
    "x = np.array([1,2,3])\n",
    "print(x+3)"
   ]
  },
  {
   "cell_type": "code",
   "execution_count": 7,
   "id": "a3e2a71f",
   "metadata": {},
   "outputs": [
    {
     "data": {
      "text/plain": [
       "3.718281828459045"
      ]
     },
     "execution_count": 7,
     "metadata": {},
     "output_type": "execute_result"
    }
   ],
   "source": [
    "import math\n",
    "def basic_sigmoid(x):\n",
    "   s=1/1+np.exp(-x)\n",
    "   return s\n",
    "basic_sigmoid(-1)"
   ]
  },
  {
   "cell_type": "markdown",
   "id": "f93d3db2",
   "metadata": {},
   "source": [
    "Gradient Function - Sigmoid"
   ]
  },
  {
   "cell_type": "code",
   "execution_count": 31,
   "id": "9d881769",
   "metadata": {},
   "outputs": [],
   "source": [
    "def basic_sigmoid(X):\n",
    "\n",
    "  s=1/(1+np.exp(-X))\n",
    "  return s"
   ]
  },
  {
   "cell_type": "code",
   "execution_count": 10,
   "id": "c3261f1b",
   "metadata": {},
   "outputs": [],
   "source": [
    "def basic_sigmoid(x):\n",
    "    \n",
    "    s=1/(1+np.exp(x))\n",
    "    return s"
   ]
  },
  {
   "cell_type": "code",
   "execution_count": 11,
   "id": "ad8bd8cb",
   "metadata": {},
   "outputs": [],
   "source": [
    "def sigmoid_derivative(x):\n",
    "\n",
    "  s = 1/(1+np.exp(-x))\n",
    "  ds = s*(1-s)\n",
    "  return ds"
   ]
  },
  {
   "cell_type": "code",
   "execution_count": 13,
   "id": "e8f436d8",
   "metadata": {},
   "outputs": [
    {
     "name": "stdout",
     "output_type": "stream",
     "text": [
      "sigmoid_derivative(x) = [0.19661193 0.10499359 0.00246651]\n"
     ]
    }
   ],
   "source": [
    "  x= np.array([1,2,6])\n",
    "  print(\"sigmoid_derivative(x) = \" + str(sigmoid_derivative(x)))\n",
    "  "
   ]
  },
  {
   "cell_type": "markdown",
   "id": "302be22e",
   "metadata": {},
   "source": [
    "Reshaping Arrays (3D image to 1D)"
   ]
  },
  {
   "cell_type": "code",
   "execution_count": 35,
   "id": "68c28b27",
   "metadata": {},
   "outputs": [
    {
     "name": "stdout",
     "output_type": "stream",
     "text": [
      "image2vector(image) = [[0.67826139]\n",
      " [0.29380381]\n",
      " [0.90714982]\n",
      " [0.52835647]\n",
      " [0.4215251 ]\n",
      " [0.45017551]\n",
      " [0.92814219]\n",
      " [0.96677647]\n",
      " [0.85304703]\n",
      " [0.52351845]\n",
      " [0.19981397]\n",
      " [0.27417313]\n",
      " [0.60659855]\n",
      " [0.00533165]\n",
      " [0.10820313]\n",
      " [0.49978937]\n",
      " [0.34144279]\n",
      " [0.94630077]]\n"
     ]
    }
   ],
   "source": [
    "import numpy as np\n",
    "\n",
    "image = np.array([[[0.67826139, 0.29380381],\n",
    "                   [0.90714982, 0.52835647],\n",
    "                   [0.4215251, 0.45017551]],\n",
    "                  \n",
    "                  [[0.92814219, 0.96677647],\n",
    "                   [0.85304703, 0.52351845],\n",
    "                   [0.19981397, 0.27417313]],\n",
    "                  \n",
    "                  [[0.60659855, 0.00533165],\n",
    "                   [0.10820313, 0.49978937],\n",
    "                   [0.34144279, 0.94630077]]])\n",
    "\n",
    "def image2vector(image):\n",
    "    return image.reshape((image.shape[0] * image.shape[1] * image.shape[2], 1))\n",
    "\n",
    "print(\"image2vector(image) = \" + str(image2vector(image)))\n",
    "\n",
    "note - #str(image2vector(image))) - this is not a function from library."
   ]
  },
  {
   "cell_type": "markdown",
   "id": "8f478c0a",
   "metadata": {},
   "source": [
    "Gradient Function - normalisation"
   ]
  },
  {
   "cell_type": "code",
   "execution_count": 36,
   "id": "ce44aa39",
   "metadata": {},
   "outputs": [],
   "source": [
    "def noramlizeRows(x):\n",
    "  \"\"\"\n",
    "  Implement a function that normalizes each row of the matrix x (to have unit length).\n",
    "\n",
    "  Argument:\n",
    "  x -- A numpy matrix of shape (n, m)\n",
    "\n",
    "  Returns:\n",
    "  x -- The normalized (by row) numpy matrix. You\n",
    "  \"\"\"\n",
    "  x_norm = np.linalg.norm(x,axis=1,keepdims=True)\n",
    "  x = x/x_norm\n",
    "  return x"
   ]
  },
  {
   "cell_type": "code",
   "execution_count": 37,
   "id": "72536ca2",
   "metadata": {},
   "outputs": [
    {
     "name": "stdout",
     "output_type": "stream",
     "text": [
      "noramlizeRows(x) = [[0.         0.99920096 0.03996804]\n",
      " [0.26726124 0.80178373 0.53452248]]\n"
     ]
    }
   ],
   "source": [
    "x = np.array([[0,1000,40],\n",
    "             [2,6,4]])\n",
    "print(\"noramlizeRows(x) = \" + str(noramlizeRows(x)))"
   ]
  },
  {
   "cell_type": "markdown",
   "id": "f732659f",
   "metadata": {},
   "source": [
    "Gradient Function - Softmax"
   ]
  },
  {
   "cell_type": "code",
   "execution_count": 14,
   "id": "ed8a038d",
   "metadata": {},
   "outputs": [],
   "source": [
    "def softmax(x):\n",
    "    x_exp = np.exp(x)\n",
    "    x_sum = np.sum(x_exp, axis = 1, keepdims = True)\n",
    "    s = x_exp / x_sum    \n",
    "    return s"
   ]
  },
  {
   "cell_type": "code",
   "execution_count": 15,
   "id": "219acacb",
   "metadata": {},
   "outputs": [
    {
     "name": "stdout",
     "output_type": "stream",
     "text": [
      "[[9.80897665e-01 8.94462891e-04 1.79657674e-02 1.21052389e-04\n",
      "  1.21052389e-04]\n",
      " [8.78679856e-01 1.18916387e-01 8.01252314e-04 8.01252314e-04\n",
      "  8.01252314e-04]]\n"
     ]
    }
   ],
   "source": [
    "x = np.array([\n",
    "    [9, 2, 5, 0, 0],\n",
    "    [7, 5, 0, 0 ,0]])\n",
    "print(softmax(x))"
   ]
  },
  {
   "cell_type": "markdown",
   "id": "9cf9b43e",
   "metadata": {},
   "source": [
    "VECTORIZATION"
   ]
  },
  {
   "cell_type": "code",
   "execution_count": 41,
   "id": "a8c053d5",
   "metadata": {
    "scrolled": true
   },
   "outputs": [
    {
     "name": "stdout",
     "output_type": "stream",
     "text": [
      "dot = 196\n",
      " ----- Computation time = 0.0ms\n",
      "outer = [[81. 18. 18. 81.  0. 81. 18. 45.  0.  0. 81. 18. 45.  0.]\n",
      " [18.  4.  4. 18.  0. 18.  4. 10.  0.  0. 18.  4. 10.  0.]\n",
      " [45. 10. 10. 45.  0. 45. 10. 25.  0.  0. 45. 10. 25.  0.]\n",
      " [ 0.  0.  0.  0.  0.  0.  0.  0.  0.  0.  0.  0.  0.  0.]\n",
      " [ 0.  0.  0.  0.  0.  0.  0.  0.  0.  0.  0.  0.  0.  0.]\n",
      " [63. 14. 14. 63.  0. 63. 14. 35.  0.  0. 63. 14. 35.  0.]\n",
      " [45. 10. 10. 45.  0. 45. 10. 25.  0.  0. 45. 10. 25.  0.]\n",
      " [ 0.  0.  0.  0.  0.  0.  0.  0.  0.  0.  0.  0.  0.  0.]\n",
      " [ 0.  0.  0.  0.  0.  0.  0.  0.  0.  0.  0.  0.  0.  0.]\n",
      " [81. 18. 18. 81.  0. 81. 18. 45.  0.  0. 81. 18. 45.  0.]\n",
      " [18.  4.  4. 18.  0. 18.  4. 10.  0.  0. 18.  4. 10.  0.]\n",
      " [45. 10. 10. 45.  0. 45. 10. 25.  0.  0. 45. 10. 25.  0.]\n",
      " [ 0.  0.  0.  0.  0.  0.  0.  0.  0.  0.  0.  0.  0.  0.]\n",
      " [ 0.  0.  0.  0.  0.  0.  0.  0.  0.  0.  0.  0.  0.  0.]]\n",
      " ----- Computation time = 15.625ms\n",
      "elementwise = [[81. 18. 18. 81.  0. 81. 18. 45.  0.  0. 81. 18. 45.  0.]\n",
      " [18.  4.  4. 18.  0. 18.  4. 10.  0.  0. 18.  4. 10.  0.]\n",
      " [45. 10. 10. 45.  0. 45. 10. 25.  0.  0. 45. 10. 25.  0.]\n",
      " [ 0.  0.  0.  0.  0.  0.  0.  0.  0.  0.  0.  0.  0.  0.]\n",
      " [ 0.  0.  0.  0.  0.  0.  0.  0.  0.  0.  0.  0.  0.  0.]\n",
      " [63. 14. 14. 63.  0. 63. 14. 35.  0.  0. 63. 14. 35.  0.]\n",
      " [45. 10. 10. 45.  0. 45. 10. 25.  0.  0. 45. 10. 25.  0.]\n",
      " [ 0.  0.  0.  0.  0.  0.  0.  0.  0.  0.  0.  0.  0.  0.]\n",
      " [ 0.  0.  0.  0.  0.  0.  0.  0.  0.  0.  0.  0.  0.  0.]\n",
      " [81. 18. 18. 81.  0. 81. 18. 45.  0.  0. 81. 18. 45.  0.]\n",
      " [18.  4.  4. 18.  0. 18.  4. 10.  0.  0. 18.  4. 10.  0.]\n",
      " [45. 10. 10. 45.  0. 45. 10. 25.  0.  0. 45. 10. 25.  0.]\n",
      " [ 0.  0.  0.  0.  0.  0.  0.  0.  0.  0.  0.  0.  0.  0.]\n",
      " [ 0.  0.  0.  0.  0.  0.  0.  0.  0.  0.  0.  0.  0.  0.]]\n",
      " ----- Computation time = 0.0ms\n"
     ]
    }
   ],
   "source": [
    "import time\n",
    "\n",
    "x1 = [9,2,5,0,0,7,5,0,0,9,2,5,0,0]\n",
    "x2 = [9,2,2,9,0,9,2,5,0,0,9,2,5,0]\n",
    "### CLASSIC DOT PRODUCT OF VECTORS IMPLEMENTATION ###\n",
    "tic = time.process_time()\n",
    "dot = 0\n",
    "for i in range(len(x1)):\n",
    "  dot+= x1[i]*x2[i]\n",
    "toc = time.process_time()\n",
    "\n",
    "print (\"dot = \" + str(dot) + \"\\n ----- Computation time = \" + str(1000*(toc - tic)) + \"ms\")\n",
    "\n",
    "###vectorized outer product\n",
    "tic = time.process_time()\n",
    "outer = np.zeros((len(x1),len(x2)))\n",
    "for i in range(len(x1)):\n",
    "  for j in range(len(x2)):\n",
    "    outer[i,j] = x1[i]*x2[j]\n",
    "    toc = time.process_time()\n",
    "print (\"outer = \" + str(outer) + \"\\n ----- Computation time = \" + str(1000*(toc - tic)) + \"ms\")\n",
    "\n",
    "###classic elementwise implementation\n",
    "tic = time.process_time()\n",
    "ele = np.zeros((len(x1),len(x2)))\n",
    "for i in range(len(x1)):\n",
    "  for j in range(len(x2)):\n",
    "    ele[i,j] = x1[i]*x2[j]\n",
    "    toc = time.process_time()\n",
    "print (\"elementwise = \" + str(ele) + \"\\n ----- Computation time = \" + str(1000*(toc - tic)) + \"ms\")\n"
   ]
  },
  {
   "cell_type": "markdown",
   "id": "256d363f",
   "metadata": {},
   "source": [
    "Calculating time taken with 1000"
   ]
  },
  {
   "cell_type": "code",
   "execution_count": 42,
   "id": "140519de",
   "metadata": {},
   "outputs": [
    {
     "name": "stdout",
     "output_type": "stream",
     "text": [
      "dot = 252.97352514336168\n",
      " ----- Computation time = 0.0ms\n"
     ]
    }
   ],
   "source": [
    "import time\n",
    "import numpy as np\n",
    "\n",
    "x1 = np.random.rand(1000)\n",
    "x2 = np.random.rand(1000)\n",
    "\n",
    "### CLASSIC DOT PRODUCT OF VECTORS IMPLEMENTATION ###\n",
    "tic = time.process_time()\n",
    "dot = 0\n",
    "for i in range(len(x1)):\n",
    "  dot+= x1[i]*x2[i]\n",
    "toc = time.process_time()\n",
    "\n",
    "print (\"dot = \" + str(dot) + \"\\n ----- Computation time = \" + str(1000*(toc - tic)) + \"ms\")"
   ]
  },
  {
   "cell_type": "markdown",
   "id": "88c7248a",
   "metadata": {},
   "source": [
    "Calculating time taken with more than 1000 "
   ]
  },
  {
   "cell_type": "code",
   "execution_count": 43,
   "id": "3b93e0df",
   "metadata": {},
   "outputs": [
    {
     "name": "stdout",
     "output_type": "stream",
     "text": [
      "dot = 2500250.3675005115\n",
      " ----- Computation time = 9500.0ms\n"
     ]
    }
   ],
   "source": [
    "import time\n",
    "import numpy as np\n",
    "\n",
    "x1 = np.random.rand(10000000)\n",
    "x2 = np.random.rand(10000000)\n",
    "\n",
    "### CLASSIC DOT PRODUCT OF VECTORS IMPLEMENTATION ###\n",
    "tic = time.process_time()\n",
    "dot = 0\n",
    "for i in range(len(x1)):\n",
    "  dot+= x1[i]*x2[i]\n",
    "toc = time.process_time()\n",
    "\n",
    "print (\"dot = \" + str(dot) + \"\\n ----- Computation time = \" + str(1000*(toc - tic)) + \"ms\")"
   ]
  },
  {
   "cell_type": "markdown",
   "id": "6fd2abd3",
   "metadata": {},
   "source": [
    "NOTE- Calculating time taken with more than 10000000 will throw an error as session crashed"
   ]
  },
  {
   "cell_type": "markdown",
   "id": "fdac8bbf",
   "metadata": {},
   "source": [
    "Implimenting L1 and L2 as Loss function."
   ]
  },
  {
   "cell_type": "code",
   "execution_count": null,
   "id": "1d21d9f6",
   "metadata": {},
   "outputs": [],
   "source": [
    "def L1(yhat,y):\n",
    "  loss=np.sum(np.abs(y-yhat))\n",
    "  return loss\n",
    "\n",
    "yhat=np.array([1,1,1,1,1])\n",
    "y=np.array([1,1,1,1,1])\n",
    "print(\"L1=\"+str(L1(yhat,y)))"
   ]
  }
 ],
 "metadata": {
  "kernelspec": {
   "display_name": "Python 3 (ipykernel)",
   "language": "python",
   "name": "python3"
  },
  "language_info": {
   "codemirror_mode": {
    "name": "ipython",
    "version": 3
   },
   "file_extension": ".py",
   "mimetype": "text/x-python",
   "name": "python",
   "nbconvert_exporter": "python",
   "pygments_lexer": "ipython3",
   "version": "3.9.13"
  }
 },
 "nbformat": 4,
 "nbformat_minor": 5
}
